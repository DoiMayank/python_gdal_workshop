{
 "cells": [
  {
   "cell_type": "markdown",
   "metadata": {},
   "source": [
    "# Intro to Python\n",
    "In this notebook, we will introduce basic Python programming to get a beginner up and running.\n"
   ]
  },
  {
   "cell_type": "code",
   "execution_count": 1,
   "metadata": {
    "collapsed": false
   },
   "outputs": [
    {
     "name": "stdout",
     "output_type": "stream",
     "text": [
      "Hello\n"
     ]
    }
   ],
   "source": [
    "new_string = 'Hello'\n",
    "print(new_string)"
   ]
  },
  {
   "cell_type": "code",
   "execution_count": 2,
   "metadata": {
    "collapsed": false
   },
   "outputs": [
    {
     "name": "stdout",
     "output_type": "stream",
     "text": [
      " Volume in drive C has no label.\n",
      " Volume Serial Number is DED4-3497\n",
      "\n",
      " Directory of C:\\Users\\acer\\Documents\\GitHub\\python_gdal_workshop\n",
      "\n",
      "2017-02-18  07:23 AM    <DIR>          .\n",
      "2017-02-18  07:23 AM    <DIR>          ..\n",
      "2017-02-18  07:19 AM    <DIR>          .ipynb_checkpoints\n",
      "2017-02-18  07:11 AM    <DIR>          cheat sheets\n",
      "2017-02-18  07:11 AM    <DIR>          images\n",
      "2017-02-18  01:47 PM             4,519 Install_Anaconda.md\n",
      "2017-02-18  07:23 AM             1,090 Intro to Python.ipynb\n",
      "2017-02-18  07:16 AM    <DIR>          ls8\n",
      "2017-02-18  07:11 AM               309 README.md\n",
      "               3 File(s)          5,918 bytes\n",
      "               6 Dir(s)  77,178,863,616 bytes free\n"
     ]
    }
   ],
   "source": [
    "ls"
   ]
  },
  {
   "cell_type": "code",
   "execution_count": 7,
   "metadata": {
    "collapsed": false
   },
   "outputs": [
    {
     "name": "stdout",
     "output_type": "stream",
     "text": [
      "C:\\Users\\acer\\Documents\\GitHub\\python_gdal_workshop\\ls8\n",
      "['LC80480232014249LGN00_B2.TIF', 'LC80480232014249LGN00_B3.TIF', 'LC80480232014249LGN00_B4.TIF', 'LC80480232014249LGN00_B5.TIF', 'LC80480232014249LGN00_B6.TIF', 'LC80480232014249LGN00_B8.TIF', 'LC80480232014249LGN00_MTL.txt', 'Thumbs.db']\n"
     ]
    }
   ],
   "source": [
    "import os\n",
    "ls8 = os.path.join(os.getcwd(), 'ls8')\n",
    "print(ls8)\n",
    "print(os.listdir(ls8))"
   ]
  },
  {
   "cell_type": "code",
   "execution_count": 2,
   "metadata": {
    "collapsed": false
   },
   "outputs": [
    {
     "ename": "SyntaxError",
     "evalue": "Missing parentheses in call to 'print' (geotools.py, line 62)",
     "output_type": "error",
     "traceback": [
      "\u001b[0;36m  File \u001b[0;32m\"C:\\Users\\acer\\Documents\\GitHub\\python_gdal_workshop\\utils\\geotools.py\"\u001b[0;36m, line \u001b[0;32m62\u001b[0m\n\u001b[0;31m    print \"manual classification complete\"\u001b[0m\n\u001b[0m                                         ^\u001b[0m\n\u001b[0;31mSyntaxError\u001b[0m\u001b[0;31m:\u001b[0m Missing parentheses in call to 'print'\n"
     ]
    }
   ],
   "source": [
    "from utils import geotools\n"
   ]
  },
  {
   "cell_type": "code",
   "execution_count": null,
   "metadata": {
    "collapsed": true
   },
   "outputs": [],
   "source": []
  }
 ],
 "metadata": {
  "kernelspec": {
   "display_name": "Python 3",
   "language": "python",
   "name": "python3"
  },
  "language_info": {
   "codemirror_mode": {
    "name": "ipython",
    "version": 3
   },
   "file_extension": ".py",
   "mimetype": "text/x-python",
   "name": "python",
   "nbconvert_exporter": "python",
   "pygments_lexer": "ipython3",
   "version": "3.6.0"
  }
 },
 "nbformat": 4,
 "nbformat_minor": 2
}
